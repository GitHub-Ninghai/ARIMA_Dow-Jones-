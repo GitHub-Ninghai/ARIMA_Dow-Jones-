{
 "cells": [
  {
   "cell_type": "code",
   "execution_count": 50,
   "id": "3d2b1f2a",
   "metadata": {},
   "outputs": [],
   "source": [
    "import pandas as pd\n",
    "import matplotlib.pyplot as plt\n",
    "import seaborn as sns\n",
    "from statsmodels.graphics.tsaplots import plot_acf,plot_pacf\n",
    "from statsmodels.tsa.arima.model import ARIMA"
   ]
  },
  {
   "cell_type": "code",
   "execution_count": 51,
   "id": "3f968a82",
   "metadata": {},
   "outputs": [
    {
     "data": {
      "text/html": [
       "<div>\n",
       "<style scoped>\n",
       "    .dataframe tbody tr th:only-of-type {\n",
       "        vertical-align: middle;\n",
       "    }\n",
       "\n",
       "    .dataframe tbody tr th {\n",
       "        vertical-align: top;\n",
       "    }\n",
       "\n",
       "    .dataframe thead th {\n",
       "        text-align: right;\n",
       "    }\n",
       "</style>\n",
       "<table border=\"1\" class=\"dataframe\">\n",
       "  <thead>\n",
       "    <tr style=\"text-align: right;\">\n",
       "      <th></th>\n",
       "      <th>open</th>\n",
       "      <th>high</th>\n",
       "      <th>low</th>\n",
       "      <th>close</th>\n",
       "    </tr>\n",
       "    <tr>\n",
       "      <th>data</th>\n",
       "      <th></th>\n",
       "      <th></th>\n",
       "      <th></th>\n",
       "      <th></th>\n",
       "    </tr>\n",
       "  </thead>\n",
       "  <tbody>\n",
       "    <tr>\n",
       "      <th>2000-01-03</th>\n",
       "      <td>11501.85</td>\n",
       "      <td>11522.01</td>\n",
       "      <td>11305.69</td>\n",
       "      <td>11357.51</td>\n",
       "    </tr>\n",
       "    <tr>\n",
       "      <th>2000-01-04</th>\n",
       "      <td>11349.75</td>\n",
       "      <td>11350.06</td>\n",
       "      <td>10986.45</td>\n",
       "      <td>10997.94</td>\n",
       "    </tr>\n",
       "    <tr>\n",
       "      <th>2000-01-05</th>\n",
       "      <td>10989.37</td>\n",
       "      <td>11215.10</td>\n",
       "      <td>10938.67</td>\n",
       "      <td>11122.66</td>\n",
       "    </tr>\n",
       "    <tr>\n",
       "      <th>2000-01-06</th>\n",
       "      <td>11113.37</td>\n",
       "      <td>11313.45</td>\n",
       "      <td>11098.45</td>\n",
       "      <td>11253.27</td>\n",
       "    </tr>\n",
       "    <tr>\n",
       "      <th>2000-01-07</th>\n",
       "      <td>11247.06</td>\n",
       "      <td>11528.14</td>\n",
       "      <td>11239.92</td>\n",
       "      <td>11522.56</td>\n",
       "    </tr>\n",
       "    <tr>\n",
       "      <th>...</th>\n",
       "      <td>...</td>\n",
       "      <td>...</td>\n",
       "      <td>...</td>\n",
       "      <td>...</td>\n",
       "    </tr>\n",
       "    <tr>\n",
       "      <th>2021-12-27</th>\n",
       "      <td>35954.48</td>\n",
       "      <td>36306.61</td>\n",
       "      <td>35954.48</td>\n",
       "      <td>36302.38</td>\n",
       "    </tr>\n",
       "    <tr>\n",
       "      <th>2021-12-28</th>\n",
       "      <td>36302.99</td>\n",
       "      <td>36527.26</td>\n",
       "      <td>36302.99</td>\n",
       "      <td>36398.21</td>\n",
       "    </tr>\n",
       "    <tr>\n",
       "      <th>2021-12-29</th>\n",
       "      <td>36421.14</td>\n",
       "      <td>36571.55</td>\n",
       "      <td>36396.19</td>\n",
       "      <td>36488.63</td>\n",
       "    </tr>\n",
       "    <tr>\n",
       "      <th>2021-12-30</th>\n",
       "      <td>36522.48</td>\n",
       "      <td>36679.44</td>\n",
       "      <td>36372.13</td>\n",
       "      <td>36398.08</td>\n",
       "    </tr>\n",
       "    <tr>\n",
       "      <th>2021-12-31</th>\n",
       "      <td>36385.85</td>\n",
       "      <td>36484.94</td>\n",
       "      <td>36303.97</td>\n",
       "      <td>36338.30</td>\n",
       "    </tr>\n",
       "  </tbody>\n",
       "</table>\n",
       "<p>5536 rows × 4 columns</p>\n",
       "</div>"
      ],
      "text/plain": [
       "                open      high       low     close\n",
       "data                                              \n",
       "2000-01-03  11501.85  11522.01  11305.69  11357.51\n",
       "2000-01-04  11349.75  11350.06  10986.45  10997.94\n",
       "2000-01-05  10989.37  11215.10  10938.67  11122.66\n",
       "2000-01-06  11113.37  11313.45  11098.45  11253.27\n",
       "2000-01-07  11247.06  11528.14  11239.92  11522.56\n",
       "...              ...       ...       ...       ...\n",
       "2021-12-27  35954.48  36306.61  35954.48  36302.38\n",
       "2021-12-28  36302.99  36527.26  36302.99  36398.21\n",
       "2021-12-29  36421.14  36571.55  36396.19  36488.63\n",
       "2021-12-30  36522.48  36679.44  36372.13  36398.08\n",
       "2021-12-31  36385.85  36484.94  36303.97  36338.30\n",
       "\n",
       "[5536 rows x 4 columns]"
      ]
     },
     "execution_count": 51,
     "metadata": {},
     "output_type": "execute_result"
    }
   ],
   "source": [
    "data = pd.read_csv('data2000_2021.csv',index_col=0,parse_dates=[0])\n",
    "data"
   ]
  },
  {
   "cell_type": "code",
   "execution_count": 52,
   "id": "a209f53a",
   "metadata": {
    "scrolled": true
   },
   "outputs": [
    {
     "data": {
      "text/plain": [
       "data\n",
       "2000-01-31    11281.269000\n",
       "2000-02-29    10541.937000\n",
       "2000-03-31    10483.396087\n",
       "2000-04-30    10944.318421\n",
       "2000-05-31    10580.271818\n",
       "                  ...     \n",
       "2021-08-31    35243.965455\n",
       "2021-09-30    34688.421429\n",
       "2021-10-31    35055.518095\n",
       "2021-11-30    35848.570952\n",
       "2021-12-31    35641.334091\n",
       "Freq: M, Name: close, Length: 264, dtype: float64"
      ]
     },
     "execution_count": 52,
     "metadata": {},
     "output_type": "execute_result"
    }
   ],
   "source": [
    "stock_week = data['close'].resample(\"M\").mean()\n",
    "stock_week"
   ]
  },
  {
   "cell_type": "code",
   "execution_count": 53,
   "id": "17dd3a55",
   "metadata": {
    "scrolled": true
   },
   "outputs": [
    {
     "data": {
      "text/plain": [
       "data\n",
       "2000-01-31    11281.269000\n",
       "2000-02-29    10541.937000\n",
       "2000-03-31    10483.396087\n",
       "2000-04-30    10944.318421\n",
       "2000-05-31    10580.271818\n",
       "                  ...     \n",
       "2019-08-31    26058.225000\n",
       "2019-09-30    26900.214000\n",
       "2019-10-31    26736.796087\n",
       "2019-11-30    27797.046000\n",
       "2019-12-31    28167.005714\n",
       "Freq: M, Name: close, Length: 240, dtype: float64"
      ]
     },
     "execution_count": 53,
     "metadata": {},
     "output_type": "execute_result"
    }
   ],
   "source": [
    "stock_train = stock_week['2000':'2019']\n",
    "stock_train"
   ]
  },
  {
   "cell_type": "code",
   "execution_count": 54,
   "id": "d75ffb4c",
   "metadata": {},
   "outputs": [
    {
     "data": {
      "image/png": "[encoded data removed]",
      "text/plain": [
       "<Figure size 432x288 with 1 Axes>"
      ]
     },
     "metadata": {
      "needs_background": "light"
     },
     "output_type": "display_data"
    }
   ],
   "source": [
    "stock_diff = stock_train.diff()\n",
    "stock_diff = stock_diff.dropna()\n",
    "plt.figure()\n",
    "plt.plot(stock_diff)\n",
    "plt.title('first difference')\n",
    "plt.show()"
   ]
  },
  {
   "cell_type": "code",
   "execution_count": 55,
   "id": "65389d6f",
   "metadata": {
    "scrolled": true
   },
   "outputs": [
    {
     "data": {
      "text/plain": [
       "<AxesSubplot:xlabel='data'>"
      ]
     },
     "execution_count": 55,
     "metadata": {},
     "output_type": "execute_result"
    },
    {
     "data": {
      "image/png": "[encoded data removed]",
      "text/plain": [
       "<Figure size 864x576 with 1 Axes>"
      ]
     },
     "metadata": {
      "needs_background": "light"
     },
     "output_type": "display_data"
    }
   ],
   "source": [
    "stock_train.plot(figsize=(12,8))"
   ]
  },
  {
   "cell_type": "code",
   "execution_count": 95,
   "id": "fedb292e",
   "metadata": {
    "scrolled": false
   },
   "outputs": [],
   "source": [
    "model = ARIMA(stock_train, order=(1,0,8))\n",
    "result = model.fit()"
   ]
  },
  {
   "cell_type": "code",
   "execution_count": 96,
   "id": "2c934cf8",
   "metadata": {},
   "outputs": [
    {
     "data": {
      "text/html": [
       "<table class=\"simpletable\">\n",
       "<caption>SARIMAX Results</caption>\n",
       "<tr>\n",
       "  <th>Dep. Variable:</th>         <td>close</td>      <th>  No. Observations:  </th>    <td>240</td>   \n",
       "</tr>\n",
       "<tr>\n",
       "  <th>Model:</th>            <td>ARIMA(1, 0, 8)</td>  <th>  Log Likelihood     </th> <td>-1803.151</td>\n",
       "</tr>\n",
       "<tr>\n",
       "  <th>Date:</th>            <td>Sun, 01 May 2022</td> <th>  AIC                </th> <td>3628.302</td> \n",
       "</tr>\n",
       "<tr>\n",
       "  <th>Time:</th>                <td>22:44:42</td>     <th>  BIC                </th> <td>3666.589</td> \n",
       "</tr>\n",
       "<tr>\n",
       "  <th>Sample:</th>             <td>01-31-2000</td>    <th>  HQIC               </th> <td>3643.729</td> \n",
       "</tr>\n",
       "<tr>\n",
       "  <th></th>                   <td>- 12-31-2019</td>   <th>                     </th>     <td> </td>    \n",
       "</tr>\n",
       "<tr>\n",
       "  <th>Covariance Type:</th>        <td>opg</td>       <th>                     </th>     <td> </td>    \n",
       "</tr>\n",
       "</table>\n",
       "<table class=\"simpletable\">\n",
       "<tr>\n",
       "     <td></td>       <th>coef</th>     <th>std err</th>      <th>z</th>      <th>P>|z|</th>  <th>[0.025</th>    <th>0.975]</th>  \n",
       "</tr>\n",
       "<tr>\n",
       "  <th>const</th>  <td> 1.404e+04</td> <td> 1.71e+04</td> <td>    0.822</td> <td> 0.411</td> <td>-1.94e+04</td> <td> 4.75e+04</td>\n",
       "</tr>\n",
       "<tr>\n",
       "  <th>ar.L1</th>  <td>    0.9974</td> <td>    0.006</td> <td>  171.304</td> <td> 0.000</td> <td>    0.986</td> <td>    1.009</td>\n",
       "</tr>\n",
       "<tr>\n",
       "  <th>ma.L1</th>  <td>    0.1637</td> <td>    0.067</td> <td>    2.457</td> <td> 0.014</td> <td>    0.033</td> <td>    0.294</td>\n",
       "</tr>\n",
       "<tr>\n",
       "  <th>ma.L2</th>  <td>   -0.0547</td> <td>    0.055</td> <td>   -1.001</td> <td> 0.317</td> <td>   -0.162</td> <td>    0.052</td>\n",
       "</tr>\n",
       "<tr>\n",
       "  <th>ma.L3</th>  <td>    0.0394</td> <td>    0.070</td> <td>    0.563</td> <td> 0.574</td> <td>   -0.098</td> <td>    0.176</td>\n",
       "</tr>\n",
       "<tr>\n",
       "  <th>ma.L4</th>  <td>   -0.0306</td> <td>    0.068</td> <td>   -0.451</td> <td> 0.652</td> <td>   -0.164</td> <td>    0.102</td>\n",
       "</tr>\n",
       "<tr>\n",
       "  <th>ma.L5</th>  <td>    0.2104</td> <td>    0.065</td> <td>    3.244</td> <td> 0.001</td> <td>    0.083</td> <td>    0.338</td>\n",
       "</tr>\n",
       "<tr>\n",
       "  <th>ma.L6</th>  <td>   -0.0326</td> <td>    0.062</td> <td>   -0.525</td> <td> 0.600</td> <td>   -0.154</td> <td>    0.089</td>\n",
       "</tr>\n",
       "<tr>\n",
       "  <th>ma.L7</th>  <td>   -0.0131</td> <td>    0.065</td> <td>   -0.201</td> <td> 0.841</td> <td>   -0.140</td> <td>    0.114</td>\n",
       "</tr>\n",
       "<tr>\n",
       "  <th>ma.L8</th>  <td>    0.1676</td> <td>    0.066</td> <td>    2.525</td> <td> 0.012</td> <td>    0.038</td> <td>    0.298</td>\n",
       "</tr>\n",
       "<tr>\n",
       "  <th>sigma2</th> <td> 1.846e+05</td> <td> 1.36e+04</td> <td>   13.603</td> <td> 0.000</td> <td> 1.58e+05</td> <td> 2.11e+05</td>\n",
       "</tr>\n",
       "</table>\n",
       "<table class=\"simpletable\">\n",
       "<tr>\n",
       "  <th>Ljung-Box (L1) (Q):</th>     <td>0.00</td> <th>  Jarque-Bera (JB):  </th> <td>54.57</td>\n",
       "</tr>\n",
       "<tr>\n",
       "  <th>Prob(Q):</th>                <td>0.99</td> <th>  Prob(JB):          </th> <td>0.00</td> \n",
       "</tr>\n",
       "<tr>\n",
       "  <th>Heteroskedasticity (H):</th> <td>2.30</td> <th>  Skew:              </th> <td>-0.68</td>\n",
       "</tr>\n",
       "<tr>\n",
       "  <th>Prob(H) (two-sided):</th>    <td>0.00</td> <th>  Kurtosis:          </th> <td>4.91</td> \n",
       "</tr>\n",
       "</table><br/><br/>Warnings:<br/>[1] Covariance matrix calculated using the outer product of gradients (complex-step)."
      ],
      "text/plain": [
       "<class 'statsmodels.iolib.summary.Summary'>\n",
       "\"\"\"\n",
       "                               SARIMAX Results                                \n",
       "==============================================================================\n",
       "Dep. Variable:                  close   No. Observations:                  240\n",
       "Model:                 ARIMA(1, 0, 8)   Log Likelihood               -1803.151\n",
       "Date:                Sun, 01 May 2022   AIC                           3628.302\n",
       "Time:                        22:44:42   BIC                           3666.589\n",
       "Sample:                    01-31-2000   HQIC                          3643.729\n",
       "                         - 12-31-2019                                         \n",
       "Covariance Type:                  opg                                         \n",
       "==============================================================================\n",
       "                 coef    std err          z      P>|z|      [0.025      0.975]\n",
       "------------------------------------------------------------------------------\n",
       "const       1.404e+04   1.71e+04      0.822      0.411   -1.94e+04    4.75e+04\n",
       "ar.L1          0.9974      0.006    171.304      0.000       0.986       1.009\n",
       "ma.L1          0.1637      0.067      2.457      0.014       0.033       0.294\n",
       "ma.L2         -0.0547      0.055     -1.001      0.317      -0.162       0.052\n",
       "ma.L3          0.0394      0.070      0.563      0.574      -0.098       0.176\n",
       "ma.L4         -0.0306      0.068     -0.451      0.652      -0.164       0.102\n",
       "ma.L5          0.2104      0.065      3.244      0.001       0.083       0.338\n",
       "ma.L6         -0.0326      0.062     -0.525      0.600      -0.154       0.089\n",
       "ma.L7         -0.0131      0.065     -0.201      0.841      -0.140       0.114\n",
       "ma.L8          0.1676      0.066      2.525      0.012       0.038       0.298\n",
       "sigma2      1.846e+05   1.36e+04     13.603      0.000    1.58e+05    2.11e+05\n",
       "===================================================================================\n",
       "Ljung-Box (L1) (Q):                   0.00   Jarque-Bera (JB):                54.57\n",
       "Prob(Q):                              0.99   Prob(JB):                         0.00\n",
       "Heteroskedasticity (H):               2.30   Skew:                            -0.68\n",
       "Prob(H) (two-sided):                  0.00   Kurtosis:                         4.91\n",
       "===================================================================================\n",
       "\n",
       "Warnings:\n",
       "[1] Covariance matrix calculated using the outer product of gradients (complex-step).\n",
       "\"\"\""
      ]
     },
     "execution_count": 96,
     "metadata": {},
     "output_type": "execute_result"
    }
   ],
   "source": [
    "result.summary()"
   ]
  },
  {
   "cell_type": "code",
   "execution_count": 97,
   "id": "73208953",
   "metadata": {},
   "outputs": [
    {
     "name": "stderr",
     "output_type": "stream",
     "text": [
      "D:\\Anaconda\\lib\\site-packages\\statsmodels\\tsa\\statespace\\kalman_filter.py:2290: ValueWarning: Dynamic prediction specified to begin during out-of-sample forecasting period, and so has no effect.\n",
      "  warn('Dynamic prediction specified to begin during'\n"
     ]
    },
    {
     "data": {
      "text/plain": [
       "2020-11-30    27975.454195\n",
       "2020-12-31    27939.063147\n",
       "2021-01-31    27902.767113\n",
       "2021-02-28    27866.565847\n",
       "2021-03-31    27830.459100\n",
       "2021-04-30    27794.446625\n",
       "2021-05-31    27758.528177\n",
       "2021-06-30    27722.703511\n",
       "2021-07-31    27686.972380\n",
       "2021-08-31    27651.334541\n",
       "2021-09-30    27615.789751\n",
       "2021-10-31    27580.337766\n",
       "2021-11-30    27544.978344\n",
       "2021-12-31    27509.711244\n",
       "2022-01-31    27474.536224\n",
       "2022-02-28    27439.453044\n",
       "2022-03-31    27404.461464\n",
       "2022-04-30    27369.561246\n",
       "2022-05-31    27334.752149\n",
       "2022-06-30    27300.033938\n",
       "2022-07-31    27265.406373\n",
       "2022-08-31    27230.869220\n",
       "2022-09-30    27196.422240\n",
       "2022-10-31    27162.065200\n",
       "2022-11-30    27127.797864\n",
       "2022-12-31    27093.619999\n",
       "2023-01-31    27059.531369\n",
       "2023-02-28    27025.531744\n",
       "2023-03-31    26991.620889\n",
       "2023-04-30    26957.798573\n",
       "2023-05-31    26924.064566\n",
       "2023-06-30    26890.418637\n",
       "2023-07-31    26856.860554\n",
       "2023-08-31    26823.390091\n",
       "2023-09-30    26790.007016\n",
       "2023-10-31    26756.711103\n",
       "2023-11-30    26723.502124\n",
       "2023-12-31    26690.379852\n",
       "2024-01-31    26657.344059\n",
       "Freq: M, Name: predicted_mean, dtype: float64"
      ]
     },
     "execution_count": 97,
     "metadata": {},
     "output_type": "execute_result"
    }
   ],
   "source": [
    "pred = result.predict(250,288,dynamic = True)\n",
    "pred"
   ]
  },
  {
   "cell_type": "code",
   "execution_count": 100,
   "id": "f87b707b",
   "metadata": {
    "scrolled": true
   },
   "outputs": [
    {
     "data": {
      "image/png": "[encoded data removed]",
      "text/plain": [
       "<Figure size 360x360 with 1 Axes>"
      ]
     },
     "metadata": {
      "needs_background": "light"
     },
     "output_type": "display_data"
    }
   ],
   "source": [
    "plt.figure(figsize=(5,5))\n",
    "plt.plot(pred)\n",
    "plt.plot(stock_week)\n",
    "plt.show()"
   ]
  },
  {
   "cell_type": "code",
   "execution_count": null,
   "id": "0c9c72cd",
   "metadata": {},
   "outputs": [],
   "source": []
  }
 ],
 "metadata": {
  "kernelspec": {
   "display_name": "Python 3",
   "language": "python",
   "name": "python3"
  },
  "language_info": {
   "codemirror_mode": {
    "name": "ipython",
    "version": 3
   },
   "file_extension": ".py",
   "mimetype": "text/x-python",
   "name": "python",
   "nbconvert_exporter": "python",
   "pygments_lexer": "ipython3",
   "version": "3.8.8"
  }
 },
 "nbformat": 4,
 "nbformat_minor": 5
}
